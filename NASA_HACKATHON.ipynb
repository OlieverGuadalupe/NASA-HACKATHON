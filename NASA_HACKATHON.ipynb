{
  "nbformat": 4,
  "nbformat_minor": 0,
  "metadata": {
    "colab": {
      "provenance": [],
      "authorship_tag": "ABX9TyMQ3LvKE1RE8+gm9KcDosCC",
      "include_colab_link": true
    },
    "kernelspec": {
      "name": "python3",
      "display_name": "Python 3"
    },
    "language_info": {
      "name": "python"
    }
  },
  "cells": [
    {
      "cell_type": "markdown",
      "metadata": {
        "id": "view-in-github",
        "colab_type": "text"
      },
      "source": [
        "<a href=\"https://colab.research.google.com/github/OlieverGuadalupe/NASA-HACKATHON/blob/main/NASA_HACKATHON.ipynb\" target=\"_parent\"><img src=\"https://colab.research.google.com/assets/colab-badge.svg\" alt=\"Open In Colab\"/></a>"
      ]
    },
    {
      "cell_type": "code",
      "source": [
        "!pip install dash"
      ],
      "metadata": {
        "colab": {
          "base_uri": "https://localhost:8080/"
        },
        "collapsed": true,
        "id": "7SThl5J94F1O",
        "outputId": "18a61b34-3442-4088-f7a8-adccd9677b74"
      },
      "execution_count": null,
      "outputs": [
        {
          "output_type": "stream",
          "name": "stdout",
          "text": [
            "Requirement already satisfied: dash in /usr/local/lib/python3.12/dist-packages (3.2.0)\n",
            "Requirement already satisfied: Flask<3.2,>=1.0.4 in /usr/local/lib/python3.12/dist-packages (from dash) (3.1.2)\n",
            "Requirement already satisfied: Werkzeug<3.2 in /usr/local/lib/python3.12/dist-packages (from dash) (3.1.3)\n",
            "Requirement already satisfied: plotly>=5.0.0 in /usr/local/lib/python3.12/dist-packages (from dash) (5.24.1)\n",
            "Requirement already satisfied: importlib-metadata in /usr/local/lib/python3.12/dist-packages (from dash) (8.7.0)\n",
            "Requirement already satisfied: typing-extensions>=4.1.1 in /usr/local/lib/python3.12/dist-packages (from dash) (4.15.0)\n",
            "Requirement already satisfied: requests in /usr/local/lib/python3.12/dist-packages (from dash) (2.32.4)\n",
            "Requirement already satisfied: retrying in /usr/local/lib/python3.12/dist-packages (from dash) (1.4.2)\n",
            "Requirement already satisfied: nest-asyncio in /usr/local/lib/python3.12/dist-packages (from dash) (1.6.0)\n",
            "Requirement already satisfied: setuptools in /usr/local/lib/python3.12/dist-packages (from dash) (75.2.0)\n",
            "Requirement already satisfied: blinker>=1.9.0 in /usr/local/lib/python3.12/dist-packages (from Flask<3.2,>=1.0.4->dash) (1.9.0)\n",
            "Requirement already satisfied: click>=8.1.3 in /usr/local/lib/python3.12/dist-packages (from Flask<3.2,>=1.0.4->dash) (8.3.0)\n",
            "Requirement already satisfied: itsdangerous>=2.2.0 in /usr/local/lib/python3.12/dist-packages (from Flask<3.2,>=1.0.4->dash) (2.2.0)\n",
            "Requirement already satisfied: jinja2>=3.1.2 in /usr/local/lib/python3.12/dist-packages (from Flask<3.2,>=1.0.4->dash) (3.1.6)\n",
            "Requirement already satisfied: markupsafe>=2.1.1 in /usr/local/lib/python3.12/dist-packages (from Flask<3.2,>=1.0.4->dash) (3.0.3)\n",
            "Requirement already satisfied: tenacity>=6.2.0 in /usr/local/lib/python3.12/dist-packages (from plotly>=5.0.0->dash) (8.5.0)\n",
            "Requirement already satisfied: packaging in /usr/local/lib/python3.12/dist-packages (from plotly>=5.0.0->dash) (25.0)\n",
            "Requirement already satisfied: zipp>=3.20 in /usr/local/lib/python3.12/dist-packages (from importlib-metadata->dash) (3.23.0)\n",
            "Requirement already satisfied: charset_normalizer<4,>=2 in /usr/local/lib/python3.12/dist-packages (from requests->dash) (3.4.3)\n",
            "Requirement already satisfied: idna<4,>=2.5 in /usr/local/lib/python3.12/dist-packages (from requests->dash) (3.10)\n",
            "Requirement already satisfied: urllib3<3,>=1.21.1 in /usr/local/lib/python3.12/dist-packages (from requests->dash) (2.5.0)\n",
            "Requirement already satisfied: certifi>=2017.4.17 in /usr/local/lib/python3.12/dist-packages (from requests->dash) (2025.8.3)\n"
          ]
        }
      ]
    },
    {
      "cell_type": "code",
      "source": [
        "!pip install --upgrade openai"
      ],
      "metadata": {
        "colab": {
          "base_uri": "https://localhost:8080/"
        },
        "collapsed": true,
        "id": "5cCIcHEY65do",
        "outputId": "0afebad1-9852-4931-820d-177ccca0621e"
      },
      "execution_count": null,
      "outputs": [
        {
          "output_type": "stream",
          "name": "stdout",
          "text": [
            "Requirement already satisfied: openai in /usr/local/lib/python3.12/dist-packages (2.1.0)\n",
            "Requirement already satisfied: anyio<5,>=3.5.0 in /usr/local/lib/python3.12/dist-packages (from openai) (4.11.0)\n",
            "Requirement already satisfied: distro<2,>=1.7.0 in /usr/local/lib/python3.12/dist-packages (from openai) (1.9.0)\n",
            "Requirement already satisfied: httpx<1,>=0.23.0 in /usr/local/lib/python3.12/dist-packages (from openai) (0.28.1)\n",
            "Requirement already satisfied: jiter<1,>=0.4.0 in /usr/local/lib/python3.12/dist-packages (from openai) (0.11.0)\n",
            "Requirement already satisfied: pydantic<3,>=1.9.0 in /usr/local/lib/python3.12/dist-packages (from openai) (2.11.9)\n",
            "Requirement already satisfied: sniffio in /usr/local/lib/python3.12/dist-packages (from openai) (1.3.1)\n",
            "Requirement already satisfied: tqdm>4 in /usr/local/lib/python3.12/dist-packages (from openai) (4.67.1)\n",
            "Requirement already satisfied: typing-extensions<5,>=4.11 in /usr/local/lib/python3.12/dist-packages (from openai) (4.15.0)\n",
            "Requirement already satisfied: idna>=2.8 in /usr/local/lib/python3.12/dist-packages (from anyio<5,>=3.5.0->openai) (3.10)\n",
            "Requirement already satisfied: certifi in /usr/local/lib/python3.12/dist-packages (from httpx<1,>=0.23.0->openai) (2025.8.3)\n",
            "Requirement already satisfied: httpcore==1.* in /usr/local/lib/python3.12/dist-packages (from httpx<1,>=0.23.0->openai) (1.0.9)\n",
            "Requirement already satisfied: h11>=0.16 in /usr/local/lib/python3.12/dist-packages (from httpcore==1.*->httpx<1,>=0.23.0->openai) (0.16.0)\n",
            "Requirement already satisfied: annotated-types>=0.6.0 in /usr/local/lib/python3.12/dist-packages (from pydantic<3,>=1.9.0->openai) (0.7.0)\n",
            "Requirement already satisfied: pydantic-core==2.33.2 in /usr/local/lib/python3.12/dist-packages (from pydantic<3,>=1.9.0->openai) (2.33.2)\n",
            "Requirement already satisfied: typing-inspection>=0.4.0 in /usr/local/lib/python3.12/dist-packages (from pydantic<3,>=1.9.0->openai) (0.4.2)\n"
          ]
        }
      ]
    },
    {
      "cell_type": "markdown",
      "source": [
        "# Main Code"
      ],
      "metadata": {
        "id": "hytB2xr4ACWg"
      }
    },
    {
      "cell_type": "code",
      "execution_count": null,
      "metadata": {
        "colab": {
          "base_uri": "https://localhost:8080/",
          "height": 672
        },
        "id": "6OOhI4fi3vti",
        "outputId": "0777d1fd-8997-4034-d3c5-a2968dc56290"
      },
      "outputs": [
        {
          "output_type": "display_data",
          "data": {
            "text/plain": [
              "<IPython.core.display.Javascript object>"
            ],
            "application/javascript": [
              "(async (port, path, width, height, cache, element) => {\n",
              "    if (!google.colab.kernel.accessAllowed && !cache) {\n",
              "      return;\n",
              "    }\n",
              "    element.appendChild(document.createTextNode(''));\n",
              "    const url = await google.colab.kernel.proxyPort(port, {cache});\n",
              "    const iframe = document.createElement('iframe');\n",
              "    iframe.src = new URL(path, url).toString();\n",
              "    iframe.height = height;\n",
              "    iframe.width = width;\n",
              "    iframe.style.border = 0;\n",
              "    iframe.allow = [\n",
              "        'accelerometer',\n",
              "        'autoplay',\n",
              "        'camera',\n",
              "        'clipboard-read',\n",
              "        'clipboard-write',\n",
              "        'gyroscope',\n",
              "        'magnetometer',\n",
              "        'microphone',\n",
              "        'serial',\n",
              "        'usb',\n",
              "        'xr-spatial-tracking',\n",
              "    ].join('; ');\n",
              "    element.appendChild(iframe);\n",
              "  })(8050, \"/\", \"100%\", 650, false, window.element)"
            ]
          },
          "metadata": {}
        }
      ],
      "source": [
        "import dash\n",
        "from dash import dcc, html, Input, Output\n",
        "import plotly.express as px\n",
        "import pandas as pd\n",
        "import re # Import the re module for regular expressions\n",
        "\n",
        "# Load and clean CSV\n",
        "# Load the dataframe with summaries\n",
        "df = pd.read_csv(\"hackaton_summary_local.csv\")\n",
        "df.columns = df.columns.str.strip().str.title()  # normalize column names\n",
        "\n",
        "app = dash.Dash(__name__)\n",
        "\n",
        "app.layout = html.Div([\n",
        "    html.H1(\"🚀 NASA Bioscience Research Dashboard\", style={'textAlign': 'center'}),\n",
        "    html.P(\"Explore NASA bioscience research papers and trends over the years.\", style={'textAlign': 'center'}),\n",
        "\n",
        "    html.Div([\n",
        "        dcc.Input(\n",
        "            id='keyword_search',\n",
        "            type='text',\n",
        "            placeholder='Search keywords in abstract...',\n",
        "            style={'width': '60%', 'display': 'block', 'margin': '10px auto'} # Adjusted width, display, and margin\n",
        "        ),\n",
        "        dcc.Dropdown(\n",
        "            id='organism_filter',\n",
        "            options=[{'label': org, 'value': org} for org in df['Organism'].dropna().unique()],\n",
        "            placeholder=\"Select an organism to filter\",\n",
        "            clearable=True,\n",
        "            style={'width': '80%', 'display': 'block', 'margin': '10px auto'} # Adjusted width, display, and margin\n",
        "        ),\n",
        "    ], style={'width': '60%', 'margin': '20px auto', 'textAlign': 'center'}),\n",
        "\n",
        "\n",
        "    dcc.Graph(id='publications_per_year'),\n",
        "\n",
        "    html.Div(id='summary_box', style={\n",
        "        'border': '1px solid #ccc',\n",
        "        'padding': '15px',\n",
        "        'borderRadius': '8px',\n",
        "        'marginTop': '20px',\n",
        "        'backgroundColor': '#f9f9f9'\n",
        "    })\n",
        "])\n",
        "\n",
        "\n",
        "def highlight_keyword(text, keyword):\n",
        "    \"\"\"Highlights the keyword in the text with bold HTML tags.\"\"\"\n",
        "    if not keyword or not isinstance(text, str):\n",
        "        return text\n",
        "    # Create a bolded version of the keyword for highlighting\n",
        "    bold_keyword = f\"<b>{keyword}</b>\"\n",
        "    # Escape special characters in the keyword for regex\n",
        "    escaped_keyword = re.escape(keyword)\n",
        "    # Use regex to replace the keyword with its bolded version (case-insensitive)\n",
        "    pattern = re.compile(f'({escaped_keyword})', re.IGNORECASE)\n",
        "    return pattern.sub(bold_keyword, text)\n",
        "\n",
        "\n",
        "@app.callback(\n",
        "    [Output('publications_per_year', 'figure'),\n",
        "     Output('summary_box', 'children')],\n",
        "    [Input('organism_filter', 'value'),\n",
        "     Input('keyword_search', 'value')] # Add keyword search input\n",
        ")\n",
        "def update_dashboard(selected_organism, search_keyword):\n",
        "    filtered_df = df.copy() # Create a copy to avoid modifying the original dataframe\n",
        "\n",
        "    if selected_organism:\n",
        "        filtered_df = filtered_df[filtered_df['Organism'] == selected_organism]\n",
        "\n",
        "    if search_keyword:\n",
        "        # Filter by keyword in the Abstract column (case-insensitive)\n",
        "        filtered_df = filtered_df[filtered_df['Abstract'].str.contains(search_keyword, case=False, na=False)]\n",
        "\n",
        "        # Create a bolded version of the keyword for highlighting\n",
        "        bold_keyword = f\"<b>{search_keyword}</b>\"\n",
        "        # Escape special characters in the keyword for regex\n",
        "        escaped_keyword = re.escape(search_keyword)\n",
        "        # Use regex to replace the keyword with its bolded version (case-insensitive)\n",
        "        pattern = re.compile(f'({escaped_keyword})', re.IGNORECASE)\n",
        "\n",
        "    filtered_df = filtered_df[pd.to_numeric(filtered_df['Year'], errors='coerce').notnull()]\n",
        "    filtered_df['Year'] = filtered_df['Year'].astype(int)\n",
        "\n",
        "    papers_per_year = filtered_df.groupby('Year').size().reset_index(name='Count')\n",
        "    fig = px.bar(\n",
        "        papers_per_year,\n",
        "        x='Year',\n",
        "        y='Count',\n",
        "        title=f'Publications Per Year{\" — \" + selected_organism if selected_organism else \"\"}',\n",
        "        color='Count',\n",
        "        color_continuous_scale='Blues'\n",
        "    )\n",
        "\n",
        "    summaries_list = []\n",
        "    if filtered_df.empty:\n",
        "        summaries_list.append(html.P(\"No publications found matching your criteria.\"))\n",
        "    else:\n",
        "        for _, row in filtered_df.iterrows():\n",
        "            abstract_text = str(row.get('Abstract', 'No abstract'))\n",
        "            summary_text = str(row.get('Summary', 'No summary'))\n",
        "\n",
        "            # Determine abstract display based on search keyword\n",
        "            if search_keyword:\n",
        "                # Display full abstract with highlighting\n",
        "                abstract_display = highlight_keyword(abstract_text, search_keyword)\n",
        "                summary_display = highlight_keyword(summary_text, search_keyword)\n",
        "            else:\n",
        "                # Display truncated abstract\n",
        "                abstract_display = f\"{abstract_text[:250]}...\" if len(abstract_text) > 250 else abstract_text\n",
        "                summary_display = summary_text # Summary is always displayed as is\n",
        "\n",
        "            summaries_list.append(html.Div([\n",
        "                html.H4(f\"📘 {row.get('Title', 'No title')}\", style={'marginBottom': '5px'}),\n",
        "                html.P(f\"👩‍🔬 Author: {row.get('Author', 'N/A')}\", style={'margin': '0'}),\n",
        "                html.P(f\"📚 Source: {row.get('Source', 'N/A')}\", style={'margin': '0'}),\n",
        "                # Displaying the abstract (truncated or full with highlighting)\n",
        "                html.P(f\"🧬 Abstract: {abstract_display}\", style={'marginTop': '5px', 'fontStyle': 'italic'}),\n",
        "                # Displaying the generated summary (with or without highlighting)\n",
        "                html.P(f\"📝 Summary: {summary_display}\", style={'marginTop': '5px', 'fontWeight': 'bold'}),\n",
        "                html.Hr()\n",
        "            ]))\n",
        "\n",
        "    return fig, summaries_list\n",
        "\n",
        "\n",
        "if __name__ == \"__main__\":\n",
        "    app.run(debug=True)"
      ]
    },
    {
      "cell_type": "code",
      "source": [
        "!pip install transformers"
      ],
      "metadata": {
        "colab": {
          "base_uri": "https://localhost:8080/"
        },
        "id": "j3qkjruQNRlD",
        "outputId": "7e4d04d2-e891-49b3-80ff-a8d87aa9897b"
      },
      "execution_count": null,
      "outputs": [
        {
          "output_type": "stream",
          "name": "stdout",
          "text": [
            "Requirement already satisfied: transformers in /usr/local/lib/python3.12/dist-packages (4.56.2)\n",
            "Requirement already satisfied: filelock in /usr/local/lib/python3.12/dist-packages (from transformers) (3.19.1)\n",
            "Requirement already satisfied: huggingface-hub<1.0,>=0.34.0 in /usr/local/lib/python3.12/dist-packages (from transformers) (0.35.3)\n",
            "Requirement already satisfied: numpy>=1.17 in /usr/local/lib/python3.12/dist-packages (from transformers) (2.0.2)\n",
            "Requirement already satisfied: packaging>=20.0 in /usr/local/lib/python3.12/dist-packages (from transformers) (25.0)\n",
            "Requirement already satisfied: pyyaml>=5.1 in /usr/local/lib/python3.12/dist-packages (from transformers) (6.0.3)\n",
            "Requirement already satisfied: regex!=2019.12.17 in /usr/local/lib/python3.12/dist-packages (from transformers) (2024.11.6)\n",
            "Requirement already satisfied: requests in /usr/local/lib/python3.12/dist-packages (from transformers) (2.32.4)\n",
            "Requirement already satisfied: tokenizers<=0.23.0,>=0.22.0 in /usr/local/lib/python3.12/dist-packages (from transformers) (0.22.1)\n",
            "Requirement already satisfied: safetensors>=0.4.3 in /usr/local/lib/python3.12/dist-packages (from transformers) (0.6.2)\n",
            "Requirement already satisfied: tqdm>=4.27 in /usr/local/lib/python3.12/dist-packages (from transformers) (4.67.1)\n",
            "Requirement already satisfied: fsspec>=2023.5.0 in /usr/local/lib/python3.12/dist-packages (from huggingface-hub<1.0,>=0.34.0->transformers) (2025.3.0)\n",
            "Requirement already satisfied: typing-extensions>=3.7.4.3 in /usr/local/lib/python3.12/dist-packages (from huggingface-hub<1.0,>=0.34.0->transformers) (4.15.0)\n",
            "Requirement already satisfied: hf-xet<2.0.0,>=1.1.3 in /usr/local/lib/python3.12/dist-packages (from huggingface-hub<1.0,>=0.34.0->transformers) (1.1.10)\n",
            "Requirement already satisfied: charset_normalizer<4,>=2 in /usr/local/lib/python3.12/dist-packages (from requests->transformers) (3.4.3)\n",
            "Requirement already satisfied: idna<4,>=2.5 in /usr/local/lib/python3.12/dist-packages (from requests->transformers) (3.10)\n",
            "Requirement already satisfied: urllib3<3,>=1.21.1 in /usr/local/lib/python3.12/dist-packages (from requests->transformers) (2.5.0)\n",
            "Requirement already satisfied: certifi>=2017.4.17 in /usr/local/lib/python3.12/dist-packages (from requests->transformers) (2025.8.3)\n"
          ]
        }
      ]
    },
    {
      "cell_type": "code",
      "metadata": {
        "colab": {
          "base_uri": "https://localhost:8080/"
        },
        "id": "2baa4e2f",
        "outputId": "37b2bdb0-733a-4e46-a739-69b642efbb62"
      },
      "source": [
        "from transformers import pipeline\n",
        "import pandas as pd\n",
        "\n",
        "# Load local summarizer model\n",
        "# Using a smaller, faster model for demonstration purposes\n",
        "# You can replace 'sshleifer/distilbart-cnn-6-6' with 'facebook/bart-large-cnn' if you prefer,\n",
        "# but it might take longer to download and run.\n",
        "summarizer = pipeline(\"summarization\", model=\"sshleifer/distilbart-cnn-6-6\")\n",
        "\n",
        "df = pd.read_csv(\"hackaton.csv\")\n",
        "df.columns = df.columns.str.strip().str.title()\n",
        "\n",
        "def summarize_local(text):\n",
        "    if pd.isna(text):\n",
        "        return \"No abstract available.\"\n",
        "    try:\n",
        "        # Adjust max_length and min_length as needed for your desired summary length\n",
        "        summary = summarizer(text, max_length=60, min_length=30, do_sample=False)\n",
        "        return summary[0]['summary_text']\n",
        "    except Exception as e:\n",
        "        print(f\"Error summarizing abstract: {e}\")\n",
        "        return \"Error summarizing abstract.\"\n",
        "\n",
        "if 'Abstract' in df.columns:\n",
        "    df[\"Summary\"] = df[\"Abstract\"].apply(summarize_local)\n",
        "    # Saving the summarized data to a new CSV\n",
        "    df.to_csv(\"hackaton_summary_local.csv\", index=False)\n",
        "    print(\"✅ Summaries generated locally and saved to hackaton_summary_local.csv\")\n",
        "else:\n",
        "    print(\"⚠️ Error: 'Abstract' column not found in the dataframe.\")"
      ],
      "execution_count": null,
      "outputs": [
        {
          "output_type": "stream",
          "name": "stderr",
          "text": [
            "Device set to use cpu\n"
          ]
        },
        {
          "output_type": "stream",
          "name": "stdout",
          "text": [
            "✅ Summaries generated locally and saved to hackaton_summary_local.csv\n"
          ]
        }
      ]
    },
    {
      "cell_type": "code",
      "source": [],
      "metadata": {
        "id": "KJLO8NBY4C4_"
      },
      "execution_count": null,
      "outputs": []
    }
  ]
}